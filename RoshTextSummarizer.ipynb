{
 "cells": [
  {
   "cell_type": "code",
   "execution_count": 125,
   "id": "983c2bf7-af70-4c34-9f36-e7f05fcb5318",
   "metadata": {},
   "outputs": [],
   "source": [
    "from urllib import request\n",
    "from bs4 import BeautifulSoup as bs\n",
    "import re\n",
    "import nltk\n",
    "import heapq"
   ]
  },
  {
   "cell_type": "code",
   "execution_count": 144,
   "id": "85d12f63-84fd-49d6-9ef9-df77977b3a58",
   "metadata": {},
   "outputs": [],
   "source": [
    "url = 'https://en.wikipedia.org/wiki/god'\n",
    "TotalContent = \"\"\n",
    "\n",
    "htmlDoc = request.urlopen(url)\n",
    "\n",
    "soupObj = bs(htmlDoc, 'html.parser')\n",
    "paragraphContents = soupObj.findAll('p')\n",
    "\n",
    "for content in paragraphContents:\n",
    "    \n",
    "  TotalContent += content.text"
   ]
  },
  {
   "cell_type": "code",
   "execution_count": 145,
   "id": "a018beae-06e9-41e5-bf6f-a2ff556e0012",
   "metadata": {},
   "outputs": [
    {
     "data": {
      "text/plain": [
       "'\\nIn monotheistic thought, God is conceived of as the supreme being, creator, and principal object of faith.[1] God is usually conceived of as being omnipotent, omniscient, omnipresent and omnibenevolent as well as having an eternal and necessary existence. God is most often held to be incorporeal, with said characteristic being related to conceptions of transcendence or immanence.[1][2][3]\\nSome religions describe God without reference to gender, while others use terminology that is gender-specif'"
      ]
     },
     "execution_count": 145,
     "metadata": {},
     "output_type": "execute_result"
    }
   ],
   "source": [
    "TotalContent[:500]"
   ]
  },
  {
   "cell_type": "code",
   "execution_count": 146,
   "id": "3f66f9de-398b-40dd-99b3-98a00d687623",
   "metadata": {},
   "outputs": [],
   "source": [
    "total_cleaned_content = re.sub(r'\\[[0-9]*\\]', ' ', TotalContent)\n",
    "total_cleaned_content = re.sub(r'\\s+', ' ', total_cleaned_content)\n",
    "sentence_tokens = nltk.sent_tokenize(total_cleaned_content)\n",
    "total_cleaned_content = re.sub(r'[^a-zA-Z]', ' ', total_cleaned_content)\n",
    "total_cleaned_content = re.sub(r'\\s+', ' ', total_cleaned_content)"
   ]
  },
  {
   "cell_type": "code",
   "execution_count": 147,
   "id": "aeaf8a56-6f2b-4127-9f25-f74054d40b30",
   "metadata": {},
   "outputs": [
    {
     "data": {
      "text/plain": [
       "' In monotheistic thought God is conceived of as the supreme being creator and principal object of faith God is usually conceived of as being omnipotent omniscient omnipresent and omnibenevolent as well as having an eternal and necessary existence God is most often held to be incorporeal with said characteristic being related to conceptions of transcendence or immanence Some religions describe God without reference to gender while others use terminology that is gender specific and gender biased G'"
      ]
     },
     "execution_count": 147,
     "metadata": {},
     "output_type": "execute_result"
    }
   ],
   "source": [
    "total_cleaned_content[:500]"
   ]
  },
  {
   "cell_type": "code",
   "execution_count": 148,
   "id": "295d4c7b-7968-4212-8c5b-bcee1f21ac61",
   "metadata": {},
   "outputs": [
    {
     "name": "stderr",
     "output_type": "stream",
     "text": [
      "[nltk_data] Downloading package punkt to\n",
      "[nltk_data]     C:\\Users\\rosha\\AppData\\Roaming\\nltk_data...\n",
      "[nltk_data]   Package punkt is already up-to-date!\n",
      "[nltk_data] Downloading package stopwords to\n",
      "[nltk_data]     C:\\Users\\rosha\\AppData\\Roaming\\nltk_data...\n",
      "[nltk_data]   Package stopwords is already up-to-date!\n"
     ]
    },
    {
     "data": {
      "text/plain": [
       "True"
      ]
     },
     "execution_count": 148,
     "metadata": {},
     "output_type": "execute_result"
    }
   ],
   "source": [
    "nltk.download('punkt')\n",
    "nltk.download('stopwords')"
   ]
  },
  {
   "cell_type": "code",
   "execution_count": 149,
   "id": "a7ca0b21-621c-4da0-aae0-df21f931617d",
   "metadata": {},
   "outputs": [],
   "source": [
    "words_tokens = nltk.word_tokenize(total_cleaned_content)\n",
    "stopwords = nltk.corpus.stopwords.words('english')\n",
    "\n",
    "word_frequencies = {}\n",
    "\n",
    "for word in words_tokens:\n",
    "  if word not in stopwords:\n",
    "    if word not in word_frequencies.keys():\n",
    "      word_frequencies[word] = 1\n",
    "    else:\n",
    "      word_frequencies[word] += 1"
   ]
  },
  {
   "cell_type": "code",
   "execution_count": 150,
   "id": "d5995066-4a5f-441e-821a-e2f6250408d0",
   "metadata": {},
   "outputs": [],
   "source": [
    "# Normalization\n",
    "\n",
    "maximum_frequency = max(word_frequencies.values())\n",
    "\n",
    "for word in word_frequencies.keys():\n",
    "  word_frequencies[word] = (word_frequencies[word]/maximum_frequency)"
   ]
  },
  {
   "cell_type": "code",
   "execution_count": 151,
   "id": "5c61e1e1-6abf-4736-8055-130db5ca0ef8",
   "metadata": {},
   "outputs": [],
   "source": [
    "sentence_scores = {}\n",
    "\n",
    "for sentence in sentence_tokens:\n",
    "  for word in nltk.word_tokenize(sentence.lower()):\n",
    "    if word in word_frequencies.keys():\n",
    "      if (len(sentence.split(' '))) < 30:\n",
    "        if sentence not in sentence_scores.keys():\n",
    "          sentence_scores[sentence] = word_frequencies[word]\n",
    "        else:\n",
    "          sentence_scores[sentence] += word_frequencies[word]"
   ]
  },
  {
   "cell_type": "code",
   "execution_count": 152,
   "id": "46ed4642-67cd-4690-9d24-21704795dfbf",
   "metadata": {},
   "outputs": [
    {
     "name": "stdout",
     "output_type": "stream",
     "text": [
      "Monotheists believe that there is only one god, and may also believe this god is worshipped in different religions under different names.Pantheism holds that God is the universe and the universe is God, whereas Panentheism holds that God contains, but is not identical to, the Universe.Each monotheistic religion refers to its god using different names, some referring to cultural ideas about the god's identity and attributes.Different religious traditions assign differing (though often similar) attributes and characteristics to God, including expansive powers and abilities, psychological characteristics, gender characteristics, and preferred nomenclature.Adherents of different religions generally disagree as to how to best worship God and what is God's plan for mankind, if there is one.\n"
     ]
    }
   ],
   "source": [
    "summary = heapq.nlargest(5, sentence_scores, key=sentence_scores.get)\n",
    "s = \"\"                      \n",
    "\n",
    "for i in summary: \n",
    "   s += i                   \n",
    "   \n",
    "print(s) "
   ]
  },
  {
   "cell_type": "code",
   "execution_count": null,
   "id": "648873aa-59c0-4419-99ce-16e474e2e7b2",
   "metadata": {},
   "outputs": [],
   "source": []
  },
  {
   "cell_type": "code",
   "execution_count": null,
   "id": "a3fcb29a-0956-4d7a-8e98-03f6a6dc5c4b",
   "metadata": {},
   "outputs": [],
   "source": []
  }
 ],
 "metadata": {
  "kernelspec": {
   "display_name": "Python 3 (ipykernel)",
   "language": "python",
   "name": "python3"
  },
  "language_info": {
   "codemirror_mode": {
    "name": "ipython",
    "version": 3
   },
   "file_extension": ".py",
   "mimetype": "text/x-python",
   "name": "python",
   "nbconvert_exporter": "python",
   "pygments_lexer": "ipython3",
   "version": "3.9.6"
  }
 },
 "nbformat": 4,
 "nbformat_minor": 5
}
